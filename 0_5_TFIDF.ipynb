{
  "nbformat": 4,
  "nbformat_minor": 0,
  "metadata": {
    "colab": {
      "name": "0.5.TFIDF.ipynb",
      "version": "0.3.2",
      "provenance": [],
      "include_colab_link": true
    },
    "kernelspec": {
      "name": "python3",
      "display_name": "Python 3"
    }
  },
  "cells": [
    {
      "cell_type": "markdown",
      "metadata": {
        "id": "view-in-github",
        "colab_type": "text"
      },
      "source": [
        "<a href=\"https://colab.research.google.com/github/freddyduitama/GVD/blob/master/0_5_TFIDF.ipynb\" target=\"_parent\"><img src=\"https://colab.research.google.com/assets/colab-badge.svg\" alt=\"Open In Colab\"/></a>"
      ]
    },
    {
      "metadata": {
        "id": "2RuDhV8LftL6",
        "colab_type": "code",
        "colab": {}
      },
      "cell_type": "code",
      "source": [
        "# instala el ambiente de spark..solo se corre una vez\n",
        "!apt-get install openjdk-8-jdk-headless -qq > /dev/null\n",
        "!wget -q http://apache.osuosl.org/spark/spark-2.4.0/spark-2.4.0-bin-hadoop2.7.tgz\n",
        "!tar xf spark-2.4.0-bin-hadoop2.7.tgz\n",
        "!pip install -q findspark"
      ],
      "execution_count": 0,
      "outputs": []
    },
    {
      "metadata": {
        "id": "c0oE4DtqmS4r",
        "colab_type": "code",
        "colab": {}
      },
      "cell_type": "code",
      "source": [
        "#Configura variables de ambiente\n",
        "import os\n",
        "os.environ[\"JAVA_HOME\"] = \"/usr/lib/jvm/java-8-openjdk-amd64\"\n",
        "os.environ[\"SPARK_HOME\"] = \"/content/spark-2.4.0-bin-hadoop2.7\""
      ],
      "execution_count": 0,
      "outputs": []
    },
    {
      "metadata": {
        "id": "jy6Mq6VOmart",
        "colab_type": "code",
        "colab": {}
      },
      "cell_type": "code",
      "source": [
        "#importa package\n",
        "import findspark\n",
        "findspark.init()\n",
        "from pyspark.sql import SparkSession\n",
        "from pyspark import SparkContext, SparkConf\n",
        "from pyspark.ml.feature import StopWordsRemover\n",
        "from pyspark.sql.functions import expr\n",
        "from pyspark.sql.functions import col, column\n",
        "import numpy as np"
      ],
      "execution_count": 0,
      "outputs": []
    },
    {
      "metadata": {
        "id": "V48Nb96YmfDv",
        "colab_type": "code",
        "colab": {}
      },
      "cell_type": "code",
      "source": [
        "# define  la sesion SPARK. \n",
        "conf = SparkConf().setAppName(\"ejemplo\").setMaster(\"local[*]\")\n",
        "sc = SparkContext(conf=conf)"
      ],
      "execution_count": 0,
      "outputs": []
    },
    {
      "metadata": {
        "id": "rW7-yzYTmizv",
        "colab_type": "code",
        "colab": {}
      },
      "cell_type": "code",
      "source": [
        "#Crea la sesion\n",
        "spark = SparkSession.builder.master(\"local[*]\").getOrCreate()"
      ],
      "execution_count": 0,
      "outputs": []
    },
    {
      "metadata": {
        "id": "Lu6ymZmGQC9R",
        "colab_type": "text"
      },
      "cell_type": "markdown",
      "source": [
        "# Datos de entrada y preprocesamiento"
      ]
    },
    {
      "metadata": {
        "id": "dAk8elKSmOhD",
        "colab_type": "code",
        "colab": {}
      },
      "cell_type": "code",
      "source": [
        "# Dataframe como entrada. \n",
        "from pyspark.ml.feature import HashingTF, IDF, Tokenizer,  CountVectorizer\n",
        "\n",
        "sentenceData = spark.createDataFrame([\n",
        "    (0.0, \"I Use Spark tools Tools  Framework\"),\n",
        "    (1.0, \"Java Framework Clasess Tools  classes\"),\n",
        "    (2.0, \"Use classes and objects\"),\n",
        "    (3.0, \"Logistic regression models use simple and powerfull concepts\"),\n",
        "    (4.0,  \"model and additional regression models use tools\")\n",
        "], [\"id\", \"sentence\"])"
      ],
      "execution_count": 0,
      "outputs": []
    },
    {
      "metadata": {
        "id": "AEpQRxmlTGLI",
        "colab_type": "code",
        "outputId": "7781a076-0626-485a-d21a-e8c9182e8b14",
        "colab": {
          "base_uri": "https://localhost:8080/",
          "height": 187
        }
      },
      "cell_type": "code",
      "source": [
        "#Divide en token cada documento. Tokenizer splits each sentence into words using. For each sentence (bag of words)\n",
        "tokenizer = Tokenizer(inputCol=\"sentence\", outputCol=\"words\")\n",
        "wordsData = tokenizer.transform(sentenceData)\n",
        "wordsData.select(\"id\",\"sentence\",\"words\").show(truncate=False)"
      ],
      "execution_count": 44,
      "outputs": [
        {
          "output_type": "stream",
          "text": [
            "+---+------------------------------------------------------------+---------------------------------------------------------------------+\n",
            "|id |sentence                                                    |words                                                                |\n",
            "+---+------------------------------------------------------------+---------------------------------------------------------------------+\n",
            "|0.0|I Use Spark tools Tools  Framework                          |[i, use, spark, tools, tools, , framework]                           |\n",
            "|1.0|Java Framework Clasess Tools  classes                       |[java, framework, clasess, tools, , classes]                         |\n",
            "|2.0|Use classes and objects                                     |[use, classes, and, objects]                                         |\n",
            "|3.0|Logistic regression models use simple and powerfull concepts|[logistic, regression, models, use, simple, and, powerfull, concepts]|\n",
            "|4.0|model and additional regression models use tools            |[model, and, additional, regression, models, use, tools]             |\n",
            "+---+------------------------------------------------------------+---------------------------------------------------------------------+\n",
            "\n"
          ],
          "name": "stdout"
        }
      ]
    },
    {
      "metadata": {
        "id": "WCclEkoWoSCe",
        "colab_type": "code",
        "colab": {}
      },
      "cell_type": "code",
      "source": [
        "# Elimina StopWords\n",
        "remover = StopWordsRemover(inputCol=\"words\", outputCol=\"filtered\")\n",
        "FilteredDoc = remover.transform(wordsData)"
      ],
      "execution_count": 0,
      "outputs": []
    },
    {
      "metadata": {
        "id": "adqpmr8HQJkH",
        "colab_type": "text"
      },
      "cell_type": "markdown",
      "source": [
        "# calculo TF . Dos métodos"
      ]
    },
    {
      "metadata": {
        "id": "IQx7zB9unVNm",
        "colab_type": "code",
        "colab": {}
      },
      "cell_type": "code",
      "source": [
        "# Opciion 1. Usar HashingTF\n",
        "hashingTF = HashingTF(inputCol=\"filtered\", outputCol=\"rawFeatures\", numFeatures=64)\n",
        "featurizedData = hashingTF.transform(FilteredDoc)\n",
        "featurizedData.select(\"id\",\"words\",\"rawFeatures\").show(truncate=False)"
      ],
      "execution_count": 0,
      "outputs": []
    },
    {
      "metadata": {
        "id": "Eus2_kaj5ymt",
        "colab_type": "code",
        "outputId": "f65e45a3-9e14-47c0-d2ba-ca39ea1ba599",
        "colab": {
          "base_uri": "https://localhost:8080/",
          "height": 238
        }
      },
      "cell_type": "code",
      "source": [
        "# Opcion 2: fit a CountVectorizerModel from the corpus.\n",
        "cv = CountVectorizer(inputCol=\"words\", outputCol=\"TF\", vocabSize=128)\n",
        "cv_model = cv.fit(FilteredDoc)\n",
        "cv_result = cv_model.transform(FilteredDoc)\n",
        "print (\"Out of CountVectorizer function\")\n",
        "cv_result.select('id','words','TF').show(truncate=False)\n",
        "print (\"Vocabulary from CountVectorizerModel is \\n\" + str(cv_model.vocabulary))"
      ],
      "execution_count": 47,
      "outputs": [
        {
          "output_type": "stream",
          "text": [
            "Out of CountVectorizer function\n",
            "+---+---------------------------------------------------------------------+------------------------------------------------------------+\n",
            "|id |words                                                                |TF                                                          |\n",
            "+---+---------------------------------------------------------------------+------------------------------------------------------------+\n",
            "|0.0|[i, use, spark, tools, tools, , framework]                           |(19,[0,1,4,7,9,10],[2.0,1.0,1.0,1.0,1.0,1.0])               |\n",
            "|1.0|[java, framework, clasess, tools, , classes]                         |(19,[0,4,6,7,16,18],[1.0,1.0,1.0,1.0,1.0,1.0])              |\n",
            "|2.0|[use, classes, and, objects]                                         |(19,[1,2,6,17],[1.0,1.0,1.0,1.0])                           |\n",
            "|3.0|[logistic, regression, models, use, simple, and, powerfull, concepts]|(19,[1,2,3,5,12,13,14,15],[1.0,1.0,1.0,1.0,1.0,1.0,1.0,1.0])|\n",
            "|4.0|[model, and, additional, regression, models, use, tools]             |(19,[0,1,2,3,5,8,11],[1.0,1.0,1.0,1.0,1.0,1.0,1.0])         |\n",
            "+---+---------------------------------------------------------------------+------------------------------------------------------------+\n",
            "\n",
            "Vocabulary from CountVectorizerModel is \n",
            "['tools', 'use', 'and', 'regression', 'framework', 'models', 'classes', '', 'model', 'i', 'spark', 'additional', 'simple', 'powerfull', 'concepts', 'logistic', 'java', 'objects', 'clasess']\n"
          ],
          "name": "stdout"
        }
      ]
    },
    {
      "metadata": {
        "id": "dgDQU5EmQRm3",
        "colab_type": "text"
      },
      "cell_type": "markdown",
      "source": [
        "#Calculo IDF"
      ]
    },
    {
      "metadata": {
        "id": "CiO8sYJip12V",
        "colab_type": "code",
        "outputId": "f0f60b88-b3b4-4b09-a90c-fa9ef445a997",
        "colab": {
          "base_uri": "https://localhost:8080/",
          "height": 207
        }
      },
      "cell_type": "code",
      "source": [
        "idf = IDF(inputCol=\"TF\", outputCol=\"IDF\")\n",
        "idfModel = idf.fit(cv_result)\n",
        "rescaledData = idfModel.transform(cv_result)\n",
        "rescaledData.select('id','words',col('IDF').alias('vocabSize,[  index   ],    [idf]')).show(truncate=False)"
      ],
      "execution_count": 49,
      "outputs": [
        {
          "output_type": "stream",
          "text": [
            "+---+---------------------------------------------------------------------+------------------------------------------------------------------------------------------------------------------------------------------------------------------------------------+\n",
            "|id |words                                                                |vocabSize,[  index   ],    [idf]                                                                                                                                                    |\n",
            "+---+---------------------------------------------------------------------+------------------------------------------------------------------------------------------------------------------------------------------------------------------------------------+\n",
            "|0.0|[i, use, spark, tools, tools, , framework]                           |(19,[0,1,4,7,9,10],[0.8109302162163288,0.1823215567939546,0.6931471805599453,0.6931471805599453,1.0986122886681098,1.0986122886681098])                                             |\n",
            "|1.0|[java, framework, clasess, tools, , classes]                         |(19,[0,4,6,7,16,18],[0.4054651081081644,0.6931471805599453,0.6931471805599453,0.6931471805599453,1.0986122886681098,1.0986122886681098])                                            |\n",
            "|2.0|[use, classes, and, objects]                                         |(19,[1,2,6,17],[0.1823215567939546,0.4054651081081644,0.6931471805599453,1.0986122886681098])                                                                                       |\n",
            "|3.0|[logistic, regression, models, use, simple, and, powerfull, concepts]|(19,[1,2,3,5,12,13,14,15],[0.1823215567939546,0.4054651081081644,0.6931471805599453,0.6931471805599453,1.0986122886681098,1.0986122886681098,1.0986122886681098,1.0986122886681098])|\n",
            "|4.0|[model, and, additional, regression, models, use, tools]             |(19,[0,1,2,3,5,8,11],[0.4054651081081644,0.1823215567939546,0.4054651081081644,0.6931471805599453,0.6931471805599453,1.0986122886681098,1.0986122886681098])                        |\n",
            "+---+---------------------------------------------------------------------+------------------------------------------------------------------------------------------------------------------------------------------------------------------------------------+\n",
            "\n"
          ],
          "name": "stdout"
        }
      ]
    },
    {
      "metadata": {
        "id": "RJ_osb0TQWjW",
        "colab_type": "text"
      },
      "cell_type": "markdown",
      "source": [
        "#calculo TFiDF"
      ]
    },
    {
      "metadata": {
        "id": "gICXeqvRXmbM",
        "colab_type": "code",
        "colab": {}
      },
      "cell_type": "code",
      "source": [
        "# covert SPARK dataFrame to panda dataFrame\n",
        "pandaDf = rescaledData.select(\"IDF\").toPandas()"
      ],
      "execution_count": 0,
      "outputs": []
    },
    {
      "metadata": {
        "id": "QKxb3v5aX6Bt",
        "colab_type": "code",
        "colab": {
          "base_uri": "https://localhost:8080/",
          "height": 119
        },
        "outputId": "4fc284cd-6f3f-4112-ade5-63a74874bcc3"
      },
      "cell_type": "code",
      "source": [
        "pandaDf.info()"
      ],
      "execution_count": 54,
      "outputs": [
        {
          "output_type": "stream",
          "text": [
            "<class 'pandas.core.frame.DataFrame'>\n",
            "RangeIndex: 5 entries, 0 to 4\n",
            "Data columns (total 1 columns):\n",
            "IDF    5 non-null object\n",
            "dtypes: object(1)\n",
            "memory usage: 120.0+ bytes\n"
          ],
          "name": "stdout"
        }
      ]
    },
    {
      "metadata": {
        "id": "7KAzBeGrecyD",
        "colab_type": "code",
        "colab": {
          "base_uri": "https://localhost:8080/",
          "height": 204
        },
        "outputId": "cd573250-4950-4f2a-a1bb-6d76b6b8450f"
      },
      "cell_type": "code",
      "source": [
        "pandaDf"
      ],
      "execution_count": 56,
      "outputs": [
        {
          "output_type": "execute_result",
          "data": {
            "text/html": [
              "<div>\n",
              "<style scoped>\n",
              "    .dataframe tbody tr th:only-of-type {\n",
              "        vertical-align: middle;\n",
              "    }\n",
              "\n",
              "    .dataframe tbody tr th {\n",
              "        vertical-align: top;\n",
              "    }\n",
              "\n",
              "    .dataframe thead th {\n",
              "        text-align: right;\n",
              "    }\n",
              "</style>\n",
              "<table border=\"1\" class=\"dataframe\">\n",
              "  <thead>\n",
              "    <tr style=\"text-align: right;\">\n",
              "      <th></th>\n",
              "      <th>IDF</th>\n",
              "    </tr>\n",
              "  </thead>\n",
              "  <tbody>\n",
              "    <tr>\n",
              "      <th>0</th>\n",
              "      <td>(0.8109302162163288, 0.1823215567939546, 0.0, ...</td>\n",
              "    </tr>\n",
              "    <tr>\n",
              "      <th>1</th>\n",
              "      <td>(0.4054651081081644, 0.0, 0.0, 0.0, 0.69314718...</td>\n",
              "    </tr>\n",
              "    <tr>\n",
              "      <th>2</th>\n",
              "      <td>(0.0, 0.1823215567939546, 0.4054651081081644, ...</td>\n",
              "    </tr>\n",
              "    <tr>\n",
              "      <th>3</th>\n",
              "      <td>(0.0, 0.1823215567939546, 0.4054651081081644, ...</td>\n",
              "    </tr>\n",
              "    <tr>\n",
              "      <th>4</th>\n",
              "      <td>(0.4054651081081644, 0.1823215567939546, 0.405...</td>\n",
              "    </tr>\n",
              "  </tbody>\n",
              "</table>\n",
              "</div>"
            ],
            "text/plain": [
              "                                                 IDF\n",
              "0  (0.8109302162163288, 0.1823215567939546, 0.0, ...\n",
              "1  (0.4054651081081644, 0.0, 0.0, 0.0, 0.69314718...\n",
              "2  (0.0, 0.1823215567939546, 0.4054651081081644, ...\n",
              "3  (0.0, 0.1823215567939546, 0.4054651081081644, ...\n",
              "4  (0.4054651081081644, 0.1823215567939546, 0.405..."
            ]
          },
          "metadata": {
            "tags": []
          },
          "execution_count": 56
        }
      ]
    },
    {
      "metadata": {
        "id": "sQ0uH9nWM20v",
        "colab_type": "code",
        "outputId": "23e9fa43-afe6-4240-eef3-479c8bab829f",
        "colab": {
          "base_uri": "https://localhost:8080/",
          "height": 119
        }
      },
      "cell_type": "code",
      "source": [
        "pandaDF.values"
      ],
      "execution_count": 58,
      "outputs": [
        {
          "output_type": "execute_result",
          "data": {
            "text/plain": [
              "array([[SparseVector(19, {0: 0.8109, 1: 0.1823, 4: 0.6931, 5: 0.6931, 13: 1.0986, 17: 1.0986})],\n",
              "       [SparseVector(19, {0: 0.4055, 3: 0.6931, 4: 0.6931, 5: 0.6931, 9: 1.0986, 12: 1.0986})],\n",
              "       [SparseVector(19, {1: 0.1823, 2: 0.4055, 3: 0.6931, 11: 1.0986})],\n",
              "       [SparseVector(19, {1: 0.1823, 2: 0.4055, 6: 0.6931, 7: 0.6931, 8: 1.0986, 10: 1.0986, 14: 1.0986, 15: 1.0986})],\n",
              "       [SparseVector(19, {0: 0.4055, 1: 0.1823, 2: 0.4055, 6: 0.6931, 7: 0.6931, 16: 1.0986, 18: 1.0986})]],\n",
              "      dtype=object)"
            ]
          },
          "metadata": {
            "tags": []
          },
          "execution_count": 58
        }
      ]
    },
    {
      "metadata": {
        "id": "cNQv72TIbyaW",
        "colab_type": "text"
      },
      "cell_type": "markdown",
      "source": [
        "# Aggregating Sparse and Dense Vectors in PySpark.\n",
        "Ver: https://danvatterott.com/blog/2018/07/08/aggregating-sparse-and-dense-vectors-in-pyspark/"
      ]
    },
    {
      "metadata": {
        "id": "Fnf-Bm9_b7Ci",
        "colab_type": "code",
        "colab": {}
      },
      "cell_type": "code",
      "source": [
        ""
      ],
      "execution_count": 0,
      "outputs": []
    }
  ]
}