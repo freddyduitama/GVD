{
  "nbformat": 4,
  "nbformat_minor": 0,
  "metadata": {
    "colab": {
      "name": "0.4.dataframes-2.ipynb",
      "version": "0.3.2",
      "provenance": [],
      "include_colab_link": true
    },
    "kernelspec": {
      "name": "python3",
      "display_name": "Python 3"
    }
  },
  "cells": [
    {
      "cell_type": "markdown",
      "metadata": {
        "id": "view-in-github",
        "colab_type": "text"
      },
      "source": [
        "<a href=\"https://colab.research.google.com/github/freddyduitama/GVD/blob/master/0_4_dataframes_2.ipynb\" target=\"_parent\"><img src=\"https://colab.research.google.com/assets/colab-badge.svg\" alt=\"Open In Colab\"/></a>"
      ]
    },
    {
      "metadata": {
        "id": "xHCnSXc7JEaI",
        "colab_type": "text"
      },
      "cell_type": "markdown",
      "source": [
        "# Configuración plataforma"
      ]
    },
    {
      "metadata": {
        "id": "3ZLwHVAALAhn",
        "colab_type": "code",
        "colab": {}
      },
      "cell_type": "code",
      "source": [
        "# instala el ambiente de spark..solo se corre una vez\n",
        "!apt-get install openjdk-8-jdk-headless -qq > /dev/null\n",
        "!wget -q http://apache.osuosl.org/spark/spark-2.4.0/spark-2.4.0-bin-hadoop2.7.tgz\n",
        "!tar xf spark-2.4.0-bin-hadoop2.7.tgz\n",
        "!pip install -q findspark"
      ],
      "execution_count": 0,
      "outputs": []
    },
    {
      "metadata": {
        "id": "NM8u-vhLI-7g",
        "colab_type": "code",
        "colab": {}
      },
      "cell_type": "code",
      "source": [
        "#Configura variables de ambiente\n",
        "import os\n",
        "os.environ[\"JAVA_HOME\"] = \"/usr/lib/jvm/java-8-openjdk-amd64\"\n",
        "os.environ[\"SPARK_HOME\"] = \"/content/spark-2.4.0-bin-hadoop2.7\""
      ],
      "execution_count": 0,
      "outputs": []
    },
    {
      "metadata": {
        "id": "Imkdhlp1JCDn",
        "colab_type": "code",
        "colab": {}
      },
      "cell_type": "code",
      "source": [
        "#import \n",
        "import findspark\n",
        "findspark.init()\n",
        "from pyspark.sql import SparkSession , SQLContext\n",
        "from pyspark import SparkContext,SparkConf"
      ],
      "execution_count": 0,
      "outputs": []
    },
    {
      "metadata": {
        "id": "DrY919pEJNxP",
        "colab_type": "code",
        "outputId": "36a20c65-2edf-4c22-a101-eaaf7c89f1ca",
        "colab": {
          "base_uri": "https://localhost:8080/",
          "height": 34
        }
      },
      "cell_type": "code",
      "source": [
        "# monta el google drive para usar sus archivos\n",
        "from google.colab import drive\n",
        "drive.mount('/gdrive', force_remount=True)"
      ],
      "execution_count": 0,
      "outputs": [
        {
          "output_type": "stream",
          "text": [
            "Mounted at /gdrive\n"
          ],
          "name": "stdout"
        }
      ]
    },
    {
      "metadata": {
        "id": "C6P6CWYRJpp3",
        "colab_type": "code",
        "outputId": "c370bbdb-c262-4c94-8d80-a48894a8716a",
        "colab": {
          "base_uri": "https://localhost:8080/",
          "height": 221
        }
      },
      "cell_type": "code",
      "source": [
        "!ls -l /gdrive/'My Drive'/'Colab Notebooks/Data'"
      ],
      "execution_count": 0,
      "outputs": [
        {
          "output_type": "stream",
          "text": [
            "total 2054\n",
            "-rw------- 1 root root   7294 Mar  7 01:45 2015-summary.csv\n",
            "-rw------- 1 root root  21622 Mar  6 20:29 2015-summary.json\n",
            "-rw------- 1 root root     24 Mar  5 20:28 clave-valor.txt\n",
            "-rw------- 1 root root 670741 Mar  5 20:22 comments.txt\n",
            "-rw------- 1 root root     50 Mar  5 20:32 crear-clave.txt\n",
            "-rw------- 1 root root    215 Mar  6 20:27 datos.json\n",
            "-rw------- 1 root root     91 Mar  5 15:07 datos.txt\n",
            "-rw------- 1 root root 697798 Mar  5 16:59 Pride_and_Prejudice.txt\n",
            "-rw------- 1 root root   2836 Mar  5 20:40 stopList.txt\n",
            "-rw------- 1 root root 697921 Mar  6 14:17 texto-con-caracteres.txt\n",
            "-rw------- 1 root root     55 Mar  6 21:41 valores.txt\n"
          ],
          "name": "stdout"
        }
      ]
    },
    {
      "metadata": {
        "id": "Pkz9zEztKLA_",
        "colab_type": "code",
        "colab": {}
      },
      "cell_type": "code",
      "source": [
        "# definir la sesion. Note que Inicia con pyspark \n",
        "conf = SparkConf().setAppName(\"ejemplo\").setMaster(\"local[*]\")\n",
        "sc = SparkContext(conf=conf)\n",
        "spark = SQLContext(sc)"
      ],
      "execution_count": 0,
      "outputs": []
    },
    {
      "metadata": {
        "id": "v04gO7BFKvtX",
        "colab_type": "code",
        "colab": {}
      },
      "cell_type": "code",
      "source": [
        "#inicia sesion en el cluster. Note que inicia con pyspark.sql\n",
        "spark = SparkSession.builder.master(\"local[*]\").getOrCreate()"
      ],
      "execution_count": 0,
      "outputs": []
    },
    {
      "metadata": {
        "id": "kwLqaNIbLiVB",
        "colab_type": "text"
      },
      "cell_type": "markdown",
      "source": [
        "# **Ejemplo 1**  Leer archivo txt , crea tipo Row , crea DataFrame y crea vista temporal para usar con SQL"
      ]
    },
    {
      "metadata": {
        "id": "Kvqt2ELjLk9P",
        "colab_type": "code",
        "colab": {}
      },
      "cell_type": "code",
      "source": [
        "#  INST A: Opcional..si quiere subir archivos al ambiente de trabajo\n",
        "from google.colab import files\n",
        "datafile = files.upload()"
      ],
      "execution_count": 0,
      "outputs": []
    },
    {
      "metadata": {
        "id": "5G8zcfYbMndv",
        "colab_type": "code",
        "colab": {}
      },
      "cell_type": "code",
      "source": [
        "from pyspark import Row\n",
        "lines = sc.textFile(\"/gdrive/My Drive/Colab Notebooks/Data/valores.txt\")"
      ],
      "execution_count": 0,
      "outputs": []
    },
    {
      "metadata": {
        "id": "wlBVWaeed2C9",
        "colab_type": "code",
        "colab": {}
      },
      "cell_type": "code",
      "source": [
        "parts = lines.map( lambda s  : s.split() )"
      ],
      "execution_count": 0,
      "outputs": []
    },
    {
      "metadata": {
        "id": "krKvRi2HMxw-",
        "colab_type": "code",
        "colab": {}
      },
      "cell_type": "code",
      "source": [
        "people = parts.map(lambda p : Row(name=p[0], age=p[1]))"
      ],
      "execution_count": 0,
      "outputs": []
    },
    {
      "metadata": {
        "id": "JhM_7E0dgIr-",
        "colab_type": "code",
        "outputId": "375b9fdb-d9b6-4cb8-fb22-2d0c7de6f01a",
        "colab": {
          "base_uri": "https://localhost:8080/",
          "height": 68
        }
      },
      "cell_type": "code",
      "source": [
        "people.take(3)"
      ],
      "execution_count": 0,
      "outputs": [
        {
          "output_type": "execute_result",
          "data": {
            "text/plain": [
              "[Row(age='20', name='Juan'),\n",
              " Row(age='23', name='Pedro'),\n",
              " Row(age='27', name='Maria')]"
            ]
          },
          "metadata": {
            "tags": []
          },
          "execution_count": 14
        }
      ]
    },
    {
      "metadata": {
        "id": "LC8_HwGCi1ks",
        "colab_type": "code",
        "colab": {}
      },
      "cell_type": "code",
      "source": [
        "dfpeople = spark.createDataFrame(people)"
      ],
      "execution_count": 0,
      "outputs": []
    },
    {
      "metadata": {
        "id": "g9a89QuUm7_c",
        "colab_type": "code",
        "colab": {}
      },
      "cell_type": "code",
      "source": [
        "dfpeople.createOrReplaceTempView(\"people\")"
      ],
      "execution_count": 0,
      "outputs": []
    },
    {
      "metadata": {
        "id": "yAKWsWuanHKk",
        "colab_type": "code",
        "colab": {}
      },
      "cell_type": "code",
      "source": [
        "teenagers = spark.sql(\"SELECT name , age FROM people WHERE age > 21 AND age < 29\")"
      ],
      "execution_count": 0,
      "outputs": []
    },
    {
      "metadata": {
        "id": "ZPiDU5PtoChT",
        "colab_type": "code",
        "outputId": "6ba20444-3417-497c-bcb8-22e0d067638c",
        "colab": {
          "base_uri": "https://localhost:8080/",
          "height": 136
        }
      },
      "cell_type": "code",
      "source": [
        "teenagers.show()"
      ],
      "execution_count": 0,
      "outputs": [
        {
          "output_type": "stream",
          "text": [
            "+-----+---+\n",
            "| name|age|\n",
            "+-----+---+\n",
            "|Pedro| 23|\n",
            "|Maria| 27|\n",
            "+-----+---+\n",
            "\n"
          ],
          "name": "stdout"
        }
      ]
    },
    {
      "metadata": {
        "id": "0NaTJA7eAjKI",
        "colab_type": "text"
      },
      "cell_type": "markdown",
      "source": [
        "# Crea Dataframe desde archivo txt y luego crea vista temporal para consultas SQL"
      ]
    },
    {
      "metadata": {
        "id": "tA-z3Qk9ytCl",
        "colab_type": "code",
        "colab": {}
      },
      "cell_type": "code",
      "source": [
        "# importa librerias para manejar esquemas y tipos de datos con dataframe\n",
        "from pyspark.sql.types import StructField, StructType, StringType, LongType"
      ],
      "execution_count": 0,
      "outputs": []
    },
    {
      "metadata": {
        "id": "ABUyLv1-yzGq",
        "colab_type": "code",
        "colab": {}
      },
      "cell_type": "code",
      "source": [
        "# define esquema a ser usado por el dataframe\n",
        "myManualSchema = StructType([\n",
        "  StructField(\"DEST_COUNTRY_NAME\", StringType(), True),\n",
        "  StructField(\"ORIGIN_COUNTRY_NAME\", StringType(), True),\n",
        "  StructField(\"count\", LongType(), False, metadata={\"hello\":\"world\"})\n",
        "])"
      ],
      "execution_count": 0,
      "outputs": []
    },
    {
      "metadata": {
        "id": "e2kPRvA8y0wj",
        "colab_type": "code",
        "colab": {}
      },
      "cell_type": "code",
      "source": [
        "# lee archivo usando esquema previamente definido\n",
        "df = spark.read.format(\"csv\").schema(myManualSchema).load(\"/gdrive/My Drive/Colab Notebooks/Data/2015-summary.csv\")"
      ],
      "execution_count": 0,
      "outputs": []
    },
    {
      "metadata": {
        "id": "ntRlIgkbC1_i",
        "colab_type": "code",
        "outputId": "cd5d341b-57ec-4c98-97d4-bbfdf0c876e5",
        "colab": {
          "base_uri": "https://localhost:8080/",
          "height": 34
        }
      },
      "cell_type": "code",
      "source": [
        "df.printSchema"
      ],
      "execution_count": 0,
      "outputs": [
        {
          "output_type": "execute_result",
          "data": {
            "text/plain": [
              "<bound method DataFrame.printSchema of DataFrame[DEST_COUNTRY_NAME: string, ORIGIN_COUNTRY_NAME: string, count: bigint]>"
            ]
          },
          "metadata": {
            "tags": []
          },
          "execution_count": 44
        }
      ]
    },
    {
      "metadata": {
        "id": "SICvAPJHA_GY",
        "colab_type": "code",
        "colab": {}
      },
      "cell_type": "code",
      "source": [
        "df.createOrReplaceTempView(\"flights\")"
      ],
      "execution_count": 0,
      "outputs": []
    },
    {
      "metadata": {
        "id": "4H0BYhSqoGFc",
        "colab_type": "code",
        "colab": {}
      },
      "cell_type": "code",
      "source": [
        "sqlWay = spark.sql(\" SELECT DEST_COUNTRY_NAME, sum(count)  as  Total FROM flights GROUP BY DEST_COUNTRY_NAME ORDER BY Total DESC\")"
      ],
      "execution_count": 0,
      "outputs": []
    },
    {
      "metadata": {
        "id": "TaUYfz-Dok4D",
        "colab_type": "code",
        "outputId": "2099ce96-fbbc-4d06-f524-1c552ec3685b",
        "colab": {
          "base_uri": "https://localhost:8080/",
          "height": 459
        }
      },
      "cell_type": "code",
      "source": [
        "sqlWay.show()"
      ],
      "execution_count": 0,
      "outputs": [
        {
          "output_type": "stream",
          "text": [
            "+------------------+------+\n",
            "| DEST_COUNTRY_NAME| Total|\n",
            "+------------------+------+\n",
            "|     United States|411293|\n",
            "|            Canada|  8399|\n",
            "|            Mexico|  7140|\n",
            "|    United Kingdom|  2025|\n",
            "|             Japan|  1548|\n",
            "|           Germany|  1468|\n",
            "|Dominican Republic|  1353|\n",
            "|       South Korea|  1048|\n",
            "|       The Bahamas|   955|\n",
            "|            France|   935|\n",
            "|          Colombia|   873|\n",
            "|            Brazil|   853|\n",
            "|       Netherlands|   776|\n",
            "|             China|   772|\n",
            "|           Jamaica|   666|\n",
            "|        Costa Rica|   588|\n",
            "|       El Salvador|   561|\n",
            "|            Panama|   510|\n",
            "|              Cuba|   466|\n",
            "|             Spain|   420|\n",
            "+------------------+------+\n",
            "only showing top 20 rows\n",
            "\n"
          ],
          "name": "stdout"
        }
      ]
    },
    {
      "metadata": {
        "id": "U-kSsz7fpoJj",
        "colab_type": "code",
        "outputId": "67421a2a-c311-4ea7-f23f-14c41a83a926",
        "colab": {
          "base_uri": "https://localhost:8080/",
          "height": 459
        }
      },
      "cell_type": "code",
      "source": [
        "from pyspark.sql.functions import desc\n",
        "dfOutput = df.groupBy(\"DEST_COUNTRY_NAME\").sum(\"count\").withColumnRenamed(\"sum(count)\", \"total\").sort(desc(\"total\")).show()"
      ],
      "execution_count": 0,
      "outputs": [
        {
          "output_type": "stream",
          "text": [
            "+------------------+------+\n",
            "| DEST_COUNTRY_NAME| total|\n",
            "+------------------+------+\n",
            "|     United States|411293|\n",
            "|            Canada|  8399|\n",
            "|            Mexico|  7140|\n",
            "|    United Kingdom|  2025|\n",
            "|             Japan|  1548|\n",
            "|           Germany|  1468|\n",
            "|Dominican Republic|  1353|\n",
            "|       South Korea|  1048|\n",
            "|       The Bahamas|   955|\n",
            "|            France|   935|\n",
            "|          Colombia|   873|\n",
            "|            Brazil|   853|\n",
            "|       Netherlands|   776|\n",
            "|             China|   772|\n",
            "|           Jamaica|   666|\n",
            "|        Costa Rica|   588|\n",
            "|       El Salvador|   561|\n",
            "|            Panama|   510|\n",
            "|              Cuba|   466|\n",
            "|             Spain|   420|\n",
            "+------------------+------+\n",
            "only showing top 20 rows\n",
            "\n"
          ],
          "name": "stdout"
        }
      ]
    },
    {
      "metadata": {
        "id": "UhQqJjGmsh-j",
        "colab_type": "code",
        "colab": {}
      },
      "cell_type": "code",
      "source": [
        "!cat /gdrive/'My Drive'/'Colab Notebooks'/Data/2015-summary.csv"
      ],
      "execution_count": 0,
      "outputs": []
    }
  ]
}