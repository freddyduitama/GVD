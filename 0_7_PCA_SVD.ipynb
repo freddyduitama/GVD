{
  "nbformat": 4,
  "nbformat_minor": 0,
  "metadata": {
    "colab": {
      "name": "0.7.PCA-SVD.ipynb",
      "version": "0.3.2",
      "provenance": [],
      "include_colab_link": true
    },
    "kernelspec": {
      "name": "python3",
      "display_name": "Python 3"
    }
  },
  "cells": [
    {
      "cell_type": "markdown",
      "metadata": {
        "id": "view-in-github",
        "colab_type": "text"
      },
      "source": [
        "<a href=\"https://colab.research.google.com/github/freddyduitama/GVD/blob/master/0_7_PCA_SVD.ipynb\" target=\"_parent\"><img src=\"https://colab.research.google.com/assets/colab-badge.svg\" alt=\"Open In Colab\"/></a>"
      ]
    },
    {
      "cell_type": "code",
      "metadata": {
        "id": "2RuDhV8LftL6",
        "colab_type": "code",
        "colab": {}
      },
      "source": [
        "# instala el ambiente de spark..solo se corre una vez\n",
        "!apt-get install openjdk-8-jdk-headless -qq > /dev/null\n",
        "!wget -q http://apache.osuosl.org/spark/spark-2.4.2/spark-2.4.2-bin-hadoop2.7.tgz\n",
        "!tar xf spark-2.4.2-bin-hadoop2.7.tgz\n",
        "!pip install -q findspark"
      ],
      "execution_count": 0,
      "outputs": []
    },
    {
      "cell_type": "code",
      "metadata": {
        "id": "c0oE4DtqmS4r",
        "colab_type": "code",
        "colab": {}
      },
      "source": [
        "#Configura variables de ambiente\n",
        "import os\n",
        "os.environ[\"JAVA_HOME\"] = \"/usr/lib/jvm/java-8-openjdk-amd64\"\n",
        "os.environ[\"SPARK_HOME\"] = \"/content/spark-2.4.2-bin-hadoop2.7\""
      ],
      "execution_count": 0,
      "outputs": []
    },
    {
      "cell_type": "code",
      "metadata": {
        "id": "jy6Mq6VOmart",
        "colab_type": "code",
        "colab": {}
      },
      "source": [
        "#importa package\n",
        "import findspark\n",
        "findspark.init()\n",
        "from pyspark.sql import SparkSession\n",
        "from pyspark import SparkContext, SparkConf\n",
        "import numpy as np\n",
        "\n",
        "# librerias necesarias\n",
        "from pyspark.mllib.linalg import Vectors\n",
        "from pyspark.ml.feature import PCA\n",
        "from pyspark.ml.linalg import Vectors\n",
        "from pyspark.mllib.linalg.distributed import RowMatrix"
      ],
      "execution_count": 0,
      "outputs": []
    },
    {
      "cell_type": "code",
      "metadata": {
        "id": "V48Nb96YmfDv",
        "colab_type": "code",
        "colab": {}
      },
      "source": [
        "# define  la sesion SPARK. \n",
        "conf = SparkConf().setAppName(\"ejemplo\").setMaster(\"local[*]\")\n",
        "sc = SparkContext(conf=conf)"
      ],
      "execution_count": 0,
      "outputs": []
    },
    {
      "cell_type": "code",
      "metadata": {
        "id": "rW7-yzYTmizv",
        "colab_type": "code",
        "colab": {}
      },
      "source": [
        "#Crea la sesion\n",
        "spark = SparkSession.builder.master(\"local[*]\").getOrCreate()"
      ],
      "execution_count": 0,
      "outputs": []
    },
    {
      "cell_type": "markdown",
      "metadata": {
        "id": "Lu6ymZmGQC9R",
        "colab_type": "text"
      },
      "source": [
        "# PCA\n"
      ]
    },
    {
      "cell_type": "code",
      "metadata": {
        "id": "dAk8elKSmOhD",
        "colab_type": "code",
        "colab": {
          "base_uri": "https://localhost:8080/",
          "height": 221
        },
        "outputId": "e62b2ed7-755f-4286-9de9-75771d9ad247"
      },
      "source": [
        "data =  [(Vectors.sparse(5, [(0, 1.0), (1,1.0), (2, 1.0)]),),\n",
        "    (Vectors.dense([3.0, 3.0, 3.0, 0.0, 0.0]),),\n",
        "    (Vectors.dense([4.0, 4.0, 4.0, 0.0, 0.0]),),\n",
        "    (Vectors.dense([5.0, 5.0, 5.0, 0.0, 0.0]),),\n",
        "    (Vectors.dense([0.0, 2.0, 0.0, 4.0, 4.0]),),\n",
        "    (Vectors.dense([0.0, 0.0, 0.0, 5.0, 5.0]),),\n",
        "    (Vectors.dense([0.0, 1.0, 0.0, 2.0, 2.0]),)\n",
        "]\n",
        "\n",
        "df = spark.createDataFrame(data, [\"features\"])\n",
        "\n",
        "pca = PCA(k=2, inputCol=\"features\", outputCol=\"pcaFeatures\")\n",
        "model = pca.fit(df)\n",
        "\n",
        "result = model.transform(df).select(\"pcaFeatures\")\n",
        "result.show(truncate=False)"
      ],
      "execution_count": 5,
      "outputs": [
        {
          "output_type": "stream",
          "text": [
            "+-----------------------------------------+\n",
            "|pcaFeatures                              |\n",
            "+-----------------------------------------+\n",
            "|[-1.31668353532568,-1.1240485367741655]  |\n",
            "|[-3.9500506059770397,-3.3721456103224963]|\n",
            "|[-5.26673414130272,-4.496194147096662]   |\n",
            "|[-6.5834176766284,-5.620242683870827]    |\n",
            "|[2.9000282007507683,-5.120649609103372]  |\n",
            "|[4.559263125839789,-5.369852115245065]   |\n",
            "|[1.4500141003753841,-2.560324804551686]  |\n",
            "+-----------------------------------------+\n",
            "\n"
          ],
          "name": "stdout"
        }
      ]
    },
    {
      "cell_type": "markdown",
      "metadata": {
        "id": "dgDQU5EmQRm3",
        "colab_type": "text"
      },
      "source": [
        "#SVD"
      ]
    },
    {
      "cell_type": "code",
      "metadata": {
        "id": "3GWRPO_iZoFs",
        "colab_type": "code",
        "colab": {}
      },
      "source": [
        "from pyspark import SparkContext\n",
        "from pyspark.mllib.linalg import Vectors\n",
        "from pyspark.mllib.linalg.distributed import RowMatrix"
      ],
      "execution_count": 0,
      "outputs": []
    },
    {
      "cell_type": "code",
      "metadata": {
        "id": "Ownq-xMwZonG",
        "colab_type": "code",
        "colab": {}
      },
      "source": [
        "rows = sc.parallelize([\n",
        "    Vectors.dense(1.0, 1.0, 1.0, 0.0, 0.0),\n",
        "    Vectors.dense(3.0, 3.0, 3.0, 0.0, 0.0),\n",
        "    Vectors.dense(4.0, 4.0, 4.0, 0.0, 0.0),\n",
        "    Vectors.dense(5.0, 5.0, 5.0, 0.0, 0.0),\n",
        "    Vectors.dense(0.0, 2.0, 0.0, 4.0, 4.0),\n",
        "    Vectors.dense(0.0, 0.0, 0.0, 5.0, 5.0),\n",
        "    Vectors.dense(0.0, 1.0, 0.0, 2.0, 2.0)\n",
        "])\n",
        "\n",
        "mat = RowMatrix(rows)\n",
        "\n",
        "    # Compute the top 5 singular values and corresponding singular vectors.\n",
        "svd = mat.computeSVD(2, computeU=True)\n",
        "U = svd.U       # The U factor is a RowMatrix.\n",
        "s = svd.s       # The singular values are stored in a local dense vector.\n",
        "V = svd.V       # The V factor is a local dense matrix."
      ],
      "execution_count": 0,
      "outputs": []
    },
    {
      "cell_type": "code",
      "metadata": {
        "id": "esXxrEtGZ4h9",
        "colab_type": "code",
        "colab": {
          "base_uri": "https://localhost:8080/",
          "height": 272
        },
        "outputId": "55454afa-6158-4366-ddd0-40331392973c"
      },
      "source": [
        "collected = U.rows.collect()\n",
        "print(\"U factor is:\")\n",
        "for vector in collected:\n",
        "     print(vector)\n",
        "print(\"Singular values are: %s\" % s)\n",
        "print(\"V factor is:\\n%s\" % V)"
      ],
      "execution_count": 9,
      "outputs": [
        {
          "output_type": "stream",
          "text": [
            "U factor is:\n",
            "[-0.13759912585743228,0.023611451432165555]\n",
            "[-0.41279737757229684,0.07083435429649666]\n",
            "[-0.5503965034297291,0.09444580572866222]\n",
            "[-0.6879956292871613,0.11805725716082777]\n",
            "[-0.15277508653386743,-0.5911009632535149]\n",
            "[-0.07221651400482049,-0.7313118565123562]\n",
            "[-0.07638754326693371,-0.29555048162675746]\n",
            "Singular values are: [12.481014693580397,9.508614056636775]\n",
            "V factor is:\n",
            "DenseMatrix([[-0.56225841,  0.12664138],\n",
            "             [-0.5928599 , -0.02877058],\n",
            "             [-0.56225841,  0.12664138],\n",
            "             [-0.09013354, -0.69537622],\n",
            "             [-0.09013354, -0.69537622]])\n"
          ],
          "name": "stdout"
        }
      ]
    }
  ]
}